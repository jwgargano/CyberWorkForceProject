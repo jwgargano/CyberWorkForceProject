{
 "cells": [
  {
   "cell_type": "code",
   "execution_count": null,
   "id": "8e2a134a",
   "metadata": {},
   "outputs": [],
   "source": [
    "import requests\n",
    "import pandas as pd\n",
    "import math\n",
    "import time"
   ]
  },
  {
   "cell_type": "code",
   "execution_count": null,
   "id": "3f44eace",
   "metadata": {},
   "outputs": [],
   "source": [
    "#CareerOneStop/NLX\n",
    "#First step is to gather job list; each job IDs will then be queried for specific job details/descriptions in the second step\n",
    "#The maximum number of results is 500; script must iterate through pages to aggregate all the job IDs.\n",
    "api_token = '2gaZEtABi5pxX1tFQeRgudXuWheouJKgYemjwUO58EH15WEKQJGw4NRXeDpbyH+r91fmkmv2ycO9uRH16yBIsQ=='    \n",
    "user_id = 'cnzHhxx5yqwWiUl'\n",
    "query_term = 'cybersecurity'\n",
    "days = '0' #All days\n",
    "start_page = 1\n",
    "end_page = 500\n",
    "\n",
    "url = f'https://api.careeronestop.org/v1/jobsearch/{user_id}/{query_term}/United%20States/25/0/0/{start_page}/{end_page}/{days}?showFilters=false'\n",
    "headers = {'Authorization': 'Bearer ' + api_token,\n",
    " 'Content-Type': 'application/json'}\n",
    "results = requests.get(url, headers=headers).json()\n",
    "\n"
   ]
  },
  {
   "cell_type": "code",
   "execution_count": null,
   "id": "27efe82f",
   "metadata": {},
   "outputs": [],
   "source": [
    "#Calculate number of API calls to get all the results\n",
    "jobs_total = int(results['Jobcount'])\n",
    "total_pages = math.ceil(int(results['Jobcount'])/500)\n",
    "print('Number of total jobs: ' + str(jobs_total) , '\\nNumber of iterations/pages: ' + str(total_pages))"
   ]
  },
  {
   "cell_type": "code",
   "execution_count": null,
   "id": "7c01930b",
   "metadata": {},
   "outputs": [],
   "source": [
    "job_list = []\n",
    "\n",
    "#Loop through all pages of jobs\n",
    "for i in range(total_pages):\n",
    "    start_page += 500\n",
    "    end_page += 500\n",
    "    url = f'https://api.careeronestop.org/v1/jobsearch/{user_id}/{query_term}/United%20States/25/0/0/{start_page}/{end_page}/{days}?showFilters=false'\n",
    "    #Extract job IDs and append to master list\n",
    "    results = requests.get(url, headers=headers).json()\n",
    "    for i, value in enumerate(results['Jobs']):\n",
    "        job_list.append(results['Jobs'][i]['JvId'])\n",
    "    time.sleep(2.0)\n",
    "        "
   ]
  },
  {
   "cell_type": "code",
   "execution_count": null,
   "id": "7c90407e",
   "metadata": {},
   "outputs": [],
   "source": [
    "#De-deplicate the job ID list\n",
    "dedupe_list = list(set(job_list))\n",
    "print(str(len(dedupe_list)) + ' requests will be made to retrieve job details. Proceed carefully!' )"
   ]
  },
  {
   "cell_type": "code",
   "execution_count": null,
   "id": "1c4f4de2",
   "metadata": {},
   "outputs": [],
   "source": [
    "#Retrieve job details using list of job IDs\n",
    "###\n",
    "#This will generate large number of calls to API!\n",
    "###\n",
    "jobs = pd.DataFrame()\n",
    "for i, value in enumerate(dedupe_list):\n",
    "    url_getjob = f'https://api.careeronestop.org/v1/jobsearch/{user_id}/{dedupe_list[i]}?isHtml=true&enableMetaData=true'\n",
    "    results = requests.get(url_getjob, headers=headers).json()\n",
    "    jobs = pd.concat([jobs, pd.DataFrame([[results['JobTitle'], results['Company'], results['Description']]])])\n",
    "    time.sleep(1.0) #throttle the calls down to one second!"
   ]
  },
  {
   "cell_type": "code",
   "execution_count": null,
   "id": "aa52f39a",
   "metadata": {},
   "outputs": [],
   "source": [
    "jobs.reset_index(drop = True)"
   ]
  },
  {
   "cell_type": "code",
   "execution_count": null,
   "id": "dae0dc80",
   "metadata": {},
   "outputs": [],
   "source": [
    "jobs"
   ]
  },
  {
   "cell_type": "code",
   "execution_count": null,
   "id": "38304412",
   "metadata": {},
   "outputs": [],
   "source": []
  }
 ],
 "metadata": {
  "kernelspec": {
   "display_name": "Python 3 (ipykernel)",
   "language": "python",
   "name": "python3"
  },
  "language_info": {
   "codemirror_mode": {
    "name": "ipython",
    "version": 3
   },
   "file_extension": ".py",
   "mimetype": "text/x-python",
   "name": "python",
   "nbconvert_exporter": "python",
   "pygments_lexer": "ipython3",
   "version": "3.8.8"
  }
 },
 "nbformat": 4,
 "nbformat_minor": 5
}

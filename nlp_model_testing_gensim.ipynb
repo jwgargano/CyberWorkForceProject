{
 "cells": [
  {
   "cell_type": "code",
   "execution_count": 8,
   "id": "ca629c84",
   "metadata": {},
   "outputs": [],
   "source": [
    "from gensim.scripts.glove2word2vec import glove2word2vec\n",
    "import gensim.downloader as api\n",
    "import pandas as pd"
   ]
  },
  {
   "cell_type": "code",
   "execution_count": 4,
   "id": "feab7b0c",
   "metadata": {},
   "outputs": [
    {
     "name": "stdout",
     "output_type": "stream",
     "text": [
      "[==================================================] 100.0% 376.1/376.1MB downloaded\n"
     ]
    }
   ],
   "source": [
    "# Downloads pre-trained glove model\n",
    "model = api.load('glove-wiki-gigaword-300')"
   ]
  },
  {
   "cell_type": "code",
   "execution_count": 5,
   "id": "1266976d",
   "metadata": {},
   "outputs": [
    {
     "name": "stdout",
     "output_type": "stream",
     "text": [
      "Most similar word to King + Woman:  [('queen', 0.6713276505470276)]\n"
     ]
    }
   ],
   "source": [
    "# exmple query to get word similar to king and women\n",
    "result = model.most_similar(positive=['woman', 'king'], negative=['man'], topn=1)\n",
    "\n",
    "print('Most similar word to King + Woman: ', result)"
   ]
  },
  {
   "cell_type": "code",
   "execution_count": 7,
   "id": "20c24e20",
   "metadata": {},
   "outputs": [
    {
     "name": "stdout",
     "output_type": "stream",
     "text": [
      "Most similar word:  [('networks', 0.5996201038360596), ('internet', 0.580498456954956), ('surveillance', 0.5709319710731506), ('threat', 0.518102765083313), ('threats', 0.5028305649757385)]\n"
     ]
    }
   ],
   "source": [
    "# example query to get word most similiar to some cybersecurity ksa skills\n",
    "result = model.most_similar(positive=['cyber','security', 'network', 'intrusion'], topn=5)\n",
    "\n",
    "print('Most similar word: ', result)"
   ]
  },
  {
   "cell_type": "code",
   "execution_count": null,
   "id": "e683d04a",
   "metadata": {},
   "outputs": [],
   "source": []
  },
  {
   "cell_type": "code",
   "execution_count": 9,
   "id": "0ac28f66",
   "metadata": {},
   "outputs": [],
   "source": [
    "# usa jobs file\n",
    "file = './Data/Cleaned Data/USAJobs.csv'"
   ]
  },
  {
   "cell_type": "code",
   "execution_count": 10,
   "id": "431f14c8",
   "metadata": {},
   "outputs": [],
   "source": [
    "# load file into pandas and create single desc col\n",
    "df = pd.read_csv(file)"
   ]
  },
  {
   "cell_type": "code",
   "execution_count": 11,
   "id": "ffbc869d",
   "metadata": {},
   "outputs": [],
   "source": [
    "df['desc'] = df['Duties'] + df['Qualifications']"
   ]
  },
  {
   "cell_type": "code",
   "execution_count": 63,
   "id": "b62aa2a7",
   "metadata": {},
   "outputs": [],
   "source": [
    "texts = df['desc'].tolist()"
   ]
  },
  {
   "cell_type": "code",
   "execution_count": null,
   "id": "f775ed5f",
   "metadata": {},
   "outputs": [],
   "source": []
  },
  {
   "cell_type": "code",
   "execution_count": 57,
   "id": "3ceb8cb9",
   "metadata": {},
   "outputs": [],
   "source": [
    "# Import libraries to build Word2Vec model, and load Newsgroups data\n",
    "import os\n",
    "import sys\n",
    "import re\n",
    "from gensim.models import Word2Vec\n",
    "from gensim.models.phrases import Phraser, Phrases\n",
    "from gensim.parsing.preprocessing import remove_stopwords"
   ]
  },
  {
   "cell_type": "code",
   "execution_count": 66,
   "id": "1c7f37b8",
   "metadata": {},
   "outputs": [],
   "source": [
    "# remove stopwords from text\n",
    "texts = [remove_stopwords(str(text).lower()) for text in texts]"
   ]
  },
  {
   "cell_type": "code",
   "execution_count": 67,
   "id": "4216beea",
   "metadata": {},
   "outputs": [],
   "source": [
    "# Cleaning data - remove punctuation from every text\n",
    "sentences = []\n",
    "# Go through each text in turn\n",
    "for ii in range(len(texts)):\n",
    "    sentences = [re.sub(pattern=r'[\\!\"#$%&\\*+,-./:;<=>?@^_`()|~=]', \n",
    "                        repl='', \n",
    "                        string=x\n",
    "                       ).strip().split(' ') for x in str(texts[ii]).split('\\n')]\n",
    "    sentences = [x for x in sentences if x != ['']]\n",
    "    texts[ii] = sentences"
   ]
  },
  {
   "cell_type": "code",
   "execution_count": 68,
   "id": "1a4dc1a6",
   "metadata": {},
   "outputs": [],
   "source": [
    "# gets all sentences and adds to text to compare/embed\n",
    "all_sentences = []\n",
    "for text in texts:\n",
    "    all_sentences += text"
   ]
  },
  {
   "cell_type": "code",
   "execution_count": 69,
   "id": "a71b2e99",
   "metadata": {},
   "outputs": [],
   "source": [
    "# Phrase Detection\n",
    "# Give some common terms that can be ignored in phrase detection\n",
    "# For example, 'state_of_affairs' will be detected because 'of' is provided here: \n",
    "common_terms = [\"of\", \"with\", \"without\", \"and\", \"or\", \"the\", \"a\"]\n",
    "# Create the relevant phrases from the list of sentences:\n",
    "phrases = Phrases(all_sentences, connector_words=common_terms)\n",
    "# The Phraser object is used from now on to transform sentences\n",
    "bigram = Phraser(phrases)\n",
    "\n",
    "# Applying the Phraser to transform our sentences is simply\n",
    "all_sentences = list(bigram[all_sentences])"
   ]
  },
  {
   "cell_type": "code",
   "execution_count": 70,
   "id": "6e12f272",
   "metadata": {},
   "outputs": [],
   "source": [
    "#  creates model using Word2Vec to create new word embeddings based on the words in the corpus texts\n",
    "model = Word2Vec(all_sentences, \n",
    "                 min_count=3,   # Ignore words that appear less than this\n",
    "                 vector_size=300,      # Dimensionality of word embeddings\n",
    "                 workers=4,     # Number of processors (parallelisation)\n",
    "                 window=5,      # Context window for words during training\n",
    "                 epochs=50)       # Number of epochs training over corpus"
   ]
  },
  {
   "cell_type": "code",
   "execution_count": 71,
   "id": "a5ee4be4",
   "metadata": {},
   "outputs": [
    {
     "data": {
      "text/plain": [
       "300"
      ]
     },
     "execution_count": 71,
     "metadata": {},
     "output_type": "execute_result"
    }
   ],
   "source": [
    "model.vector_size"
   ]
  },
  {
   "cell_type": "code",
   "execution_count": 72,
   "id": "84725371",
   "metadata": {},
   "outputs": [
    {
     "data": {
      "text/plain": [
       "26969"
      ]
     },
     "execution_count": 72,
     "metadata": {},
     "output_type": "execute_result"
    }
   ],
   "source": [
    "# total vocab (i think the pre-trained has a few million so not sure if this is better or not)\n",
    "len(model.wv)"
   ]
  },
  {
   "cell_type": "code",
   "execution_count": 74,
   "id": "396d9227",
   "metadata": {},
   "outputs": [
    {
     "name": "stdout",
     "output_type": "stream",
     "text": [
      "Most similar word:  [('systems', 0.7998062968254089), ('cybersecurity', 0.6941286325454712), ('cyber', 0.6395346522331238), ('information', 0.609721302986145), ('management', 0.6047764420509338), ('technical', 0.5650832056999207), ('software', 0.5505338311195374), ('program', 0.5496156811714172), ('operations', 0.5478859543800354), ('compliance', 0.5327330827713013)]\n"
     ]
    }
   ],
   "source": [
    "# sample query to see what words are most similar to some cyber ksas\n",
    "result = model.wv.most_similar(positive=['network', 'security'])\n",
    "\n",
    "print('Most similar word: ', result)"
   ]
  },
  {
   "cell_type": "code",
   "execution_count": null,
   "id": "9374e9c7",
   "metadata": {},
   "outputs": [],
   "source": []
  }
 ],
 "metadata": {
  "kernelspec": {
   "display_name": "Python 3 (ipykernel)",
   "language": "python",
   "name": "python3"
  },
  "language_info": {
   "codemirror_mode": {
    "name": "ipython",
    "version": 3
   },
   "file_extension": ".py",
   "mimetype": "text/x-python",
   "name": "python",
   "nbconvert_exporter": "python",
   "pygments_lexer": "ipython3",
   "version": "3.9.7"
  }
 },
 "nbformat": 4,
 "nbformat_minor": 5
}

{
 "cells": [
  {
   "cell_type": "code",
   "execution_count": null,
   "id": "af26af8c",
   "metadata": {},
   "outputs": [],
   "source": [
    "# Imports\n",
    "from sentence_transformers import SentenceTransformer\n",
    "from sklearn.metrics.pairwise import cosine_similarity\n",
    "import pandas as pd\n",
    "import re\n",
    "import numpy as np\n",
    "import helpers # this is a Joe G. created helper file of functions\n",
    "from bertopic import BERTopic"
   ]
  },
  {
   "cell_type": "code",
   "execution_count": null,
   "id": "d990564b",
   "metadata": {},
   "outputs": [],
   "source": [
    "# Params / Files to change \n",
    "input_file = '../data/cleaned_data/USAJobs.csv' # change to whatever file/filepath you are using\n",
    "output_file = '../data/results/usa_jobs/topic_match/demo.csv' # change to your outpath\n",
    "model_file = '../data/results/usa_jobs/topic_match/demo' # change to save model path (** NOTE no file ext!!! **)\n",
    "desc_column = 'Duties'\n",
    "start_idx = 0 # file row to start at\n",
    "end_idx = 100 # file row to end at\n",
    "#how many jobs do you want to search / score against? make start_idx -1 if you want to use entire file"
   ]
  },
  {
   "cell_type": "code",
   "execution_count": null,
   "id": "cbfdbe72",
   "metadata": {},
   "outputs": [],
   "source": [
    "# model name for BERTopic \n",
    "# TODO: re-use saved embedding files?\n",
    "model_name = 'sentence-transformers/paraphrase-distilroberta-base-v2'\n",
    "model = SentenceTransformer(model_name)"
   ]
  },
  {
   "cell_type": "code",
   "execution_count": null,
   "id": "86540584",
   "metadata": {},
   "outputs": [],
   "source": [
    "# file for our cyber baseline\n",
    "baseline_file = '../data/cleaned_data/KUKSAT_Baseline.csv'\n",
    "ksa_col = 'KUKSAT'"
   ]
  },
  {
   "cell_type": "code",
   "execution_count": null,
   "id": "dd18a386",
   "metadata": {},
   "outputs": [],
   "source": [
    "# read baselne_file and convert to df\n",
    "df_base = pd.read_csv(baseline_file, encoding='ISO-8859-1')\n",
    "ksas = df_base[ksa_col].tolist()"
   ]
  },
  {
   "cell_type": "code",
   "execution_count": null,
   "id": "25e6ed03",
   "metadata": {},
   "outputs": [],
   "source": [
    "# how many ksas\n",
    "len(df_base)"
   ]
  },
  {
   "cell_type": "code",
   "execution_count": null,
   "id": "33c5aa41",
   "metadata": {},
   "outputs": [],
   "source": [
    "# read input file and covert to df\n",
    "# covert target description column to list\n",
    "df = pd.read_csv(input_file)\n",
    "if start_idx >= 0 and start_idx != end_idx:\n",
    "    jobs = df[start_idx:end_idx]\n",
    "else:\n",
    "    jobs = df.copy()\n",
    "jobs = jobs[desc_column].tolist()"
   ]
  },
  {
   "cell_type": "code",
   "execution_count": null,
   "id": "ad03b3d1",
   "metadata": {},
   "outputs": [],
   "source": [
    "# how many jobs\n",
    "len(jobs)"
   ]
  },
  {
   "cell_type": "code",
   "execution_count": null,
   "id": "b6f61334",
   "metadata": {},
   "outputs": [],
   "source": [
    "# apply text cleanup functions to jobs and ksa base list\n",
    "jobs = helpers.remove_stopwords(jobs)\n",
    "ksas = helpers.remove_stopwords(ksas)\n",
    "\n",
    "jobs = helpers.cleanup_text(jobs)\n",
    "ksas = helpers.cleanup_text(ksas)"
   ]
  },
  {
   "cell_type": "code",
   "execution_count": null,
   "id": "f5a2d619",
   "metadata": {},
   "outputs": [],
   "source": [
    "# initalize model, make bigram, fit to job sents\n",
    "topic_model = BERTopic(embedding_model=model, n_gram_range=(1, 2))\n",
    "\n",
    "topics, probs = topic_model.fit_transform(jobs)"
   ]
  },
  {
   "cell_type": "code",
   "execution_count": null,
   "id": "7716d703",
   "metadata": {},
   "outputs": [],
   "source": [
    "# view topics\n",
    "topic_model.get_topic_info()"
   ]
  },
  {
   "cell_type": "code",
   "execution_count": null,
   "id": "b60f856a",
   "metadata": {},
   "outputs": [],
   "source": [
    "# saves topic model\n",
    "topic_model.save(model_file)"
   ]
  },
  {
   "cell_type": "code",
   "execution_count": null,
   "id": "8fac90b9",
   "metadata": {},
   "outputs": [],
   "source": [
    "# Try using each KSA and compare see the top 10 topics that fit\n",
    "# If matches (x >= 0.6), similar matches ( 0.6< x >0.4)\n",
    "all_matches = []\n",
    "all_similar =[]\n",
    "for idx, ksa in enumerate(ksas):\n",
    "    matched=[]\n",
    "    similar=[]\n",
    "    topics, similarity = topic_model.find_topics(ksa,top_n=10)\n",
    "\n",
    "    for idx2, score in enumerate(similarity):\n",
    "        temp={}\n",
    "        if score >= 0.6:\n",
    "            temp['ksa_idx'] = idx\n",
    "            temp['ksa_text'] = ksas[idx]\n",
    "            temp['topic_idx'] = idx2\n",
    "            temp['sim_score'] = score\n",
    "            temp['topic_info'] = topic_model.get_topic(idx2)\n",
    "            matched.append(temp)\n",
    "        if score <0.6 and score > 0.4:\n",
    "            temp['ksa_idx'] = idx\n",
    "            temp['ksa_text'] = ksas[idx]\n",
    "            temp['topic_idx'] = idx2\n",
    "            temp['sim_score'] = score\n",
    "            temp['topic_info'] = topic_model.get_topic(idx2)\n",
    "            similar.append(temp)\n",
    "    all_matches.append(matched)\n",
    "    all_similar.append(similar)"
   ]
  },
  {
   "cell_type": "code",
   "execution_count": null,
   "id": "0c72f890",
   "metadata": {},
   "outputs": [],
   "source": [
    "# calculates aggregate scores for matching, similar, missing\n",
    "# uses total topics\n",
    "ksa_agg_matches = []\n",
    "ksa_agg_similar = []\n",
    "ksa_agg_missing = []\n",
    "num_topics = len(topic_model.get_topic_info()) -1\n",
    "for idx, val in enumerate(ksas):\n",
    "    matched_score = len(all_matches[idx])/num_topics\n",
    "    similar_score = len(all_similar[idx])/num_topics\n",
    "    missing_score = 1 -(matched_score + similar_score)\n",
    "    ksa_agg_matches.append(matched_score)\n",
    "    ksa_agg_similar.append(similar_score)\n",
    "    ksa_agg_missing.append(missing_score)"
   ]
  },
  {
   "cell_type": "code",
   "execution_count": null,
   "id": "f053381f",
   "metadata": {},
   "outputs": [],
   "source": [
    "# dataframes all results\n",
    "final_df = pd.DataFrame({\n",
    "    'ksa': ksas,\n",
    "    'matches': all_matches,\n",
    "    'similar': all_similar,\n",
    "    'matched_score': ksa_agg_matches,\n",
    "    'similar_score': ksa_agg_similar,\n",
    "    'missing_score': ksa_agg_missing\n",
    "})"
   ]
  },
  {
   "cell_type": "code",
   "execution_count": null,
   "id": "1877f548",
   "metadata": {},
   "outputs": [],
   "source": [
    "# save to output_file\n",
    "final_df.to_csv(output_file, index=False)"
   ]
  },
  {
   "cell_type": "code",
   "execution_count": null,
   "id": "237c46a7",
   "metadata": {},
   "outputs": [],
   "source": [
    "# For local visual / spot check sorts by matched, similar, missing score\n",
    "final_df.sort_values(by=['matched_score', 'similar_score', 'missing_score'], ascending=False)"
   ]
  },
  {
   "cell_type": "code",
   "execution_count": null,
   "id": "1ffbe0f1",
   "metadata": {},
   "outputs": [],
   "source": [
    "len(final_df[final_df['missing_score'] !=1])"
   ]
  },
  {
   "cell_type": "code",
   "execution_count": null,
   "id": "040cd326",
   "metadata": {},
   "outputs": [],
   "source": [
    "len(final_df[final_df['missing_score'] !=1]) / len(ksas)"
   ]
  },
  {
   "cell_type": "code",
   "execution_count": null,
   "id": "32795688",
   "metadata": {},
   "outputs": [],
   "source": [
    "# USA Jobs\n",
    "# started 8:25pm\n",
    "# ended at 8:46pm"
   ]
  },
  {
   "cell_type": "code",
   "execution_count": null,
   "id": "0f070a0f",
   "metadata": {},
   "outputs": [],
   "source": [
    "# NLX \n",
    "# started 9:08 pm"
   ]
  },
  {
   "cell_type": "code",
   "execution_count": null,
   "id": "5e32b21e",
   "metadata": {},
   "outputs": [],
   "source": [
    "# topic_model=BERTopic.load('path_to_model', embedding_model=model)"
   ]
  },
  {
   "cell_type": "code",
   "execution_count": null,
   "id": "4422b4d3",
   "metadata": {},
   "outputs": [],
   "source": []
  },
  {
   "cell_type": "code",
   "execution_count": null,
   "id": "ebf3241b",
   "metadata": {},
   "outputs": [],
   "source": [
    "load_model = 'C:/Users/Joe/Desktop/usa_jobs_topic/all'"
   ]
  },
  {
   "cell_type": "code",
   "execution_count": null,
   "id": "24620803",
   "metadata": {},
   "outputs": [],
   "source": [
    "load_results  = 'C:/Users/Joe/Desktop/usa_jobs_topic/all.csv'"
   ]
  },
  {
   "cell_type": "code",
   "execution_count": null,
   "id": "2045b05f",
   "metadata": {},
   "outputs": [],
   "source": [
    "topic_model=BERTopic.load(load_model, embedding_model=model)"
   ]
  },
  {
   "cell_type": "code",
   "execution_count": null,
   "id": "c3ebb621",
   "metadata": {},
   "outputs": [],
   "source": [
    "topic_model.get_topic_info()"
   ]
  },
  {
   "cell_type": "code",
   "execution_count": null,
   "id": "2743a3cd",
   "metadata": {},
   "outputs": [],
   "source": [
    "topic_model.get_topic(3)"
   ]
  },
  {
   "cell_type": "code",
   "execution_count": null,
   "id": "f45b0c85",
   "metadata": {},
   "outputs": [],
   "source": [
    "df = pd.read_csv(load_results)"
   ]
  },
  {
   "cell_type": "code",
   "execution_count": null,
   "id": "5dd7788c",
   "metadata": {},
   "outputs": [],
   "source": [
    "df.sort_values(by=['matched_score', 'similar_score', 'missing_score'], ascending=False)"
   ]
  },
  {
   "cell_type": "code",
   "execution_count": null,
   "id": "b5c9bba6",
   "metadata": {},
   "outputs": [],
   "source": [
    "len(df[df['missing_score'] != 1.0])/len(ksas)"
   ]
  },
  {
   "cell_type": "code",
   "execution_count": null,
   "id": "82e55450",
   "metadata": {},
   "outputs": [],
   "source": [
    "df['matched_score'].max()"
   ]
  },
  {
   "cell_type": "code",
   "execution_count": null,
   "id": "349c0d77",
   "metadata": {},
   "outputs": [],
   "source": [
    "df['matches'][145]"
   ]
  },
  {
   "cell_type": "code",
   "execution_count": null,
   "id": "7abc2a3d",
   "metadata": {},
   "outputs": [],
   "source": [
    "topic_model.visualize_topics()"
   ]
  },
  {
   "cell_type": "code",
   "execution_count": null,
   "id": "43d41891",
   "metadata": {},
   "outputs": [],
   "source": [
    "topic_model.visualize_heatmap()"
   ]
  },
  {
   "cell_type": "code",
   "execution_count": null,
   "id": "2fb1a624",
   "metadata": {},
   "outputs": [],
   "source": [
    "topic_model.visualize_barchart()"
   ]
  },
  {
   "cell_type": "code",
   "execution_count": null,
   "id": "2effdc75",
   "metadata": {},
   "outputs": [],
   "source": []
  }
 ],
 "metadata": {
  "kernelspec": {
   "display_name": "Python 3 (ipykernel)",
   "language": "python",
   "name": "python3"
  },
  "language_info": {
   "codemirror_mode": {
    "name": "ipython",
    "version": 3
   },
   "file_extension": ".py",
   "mimetype": "text/x-python",
   "name": "python",
   "nbconvert_exporter": "python",
   "pygments_lexer": "ipython3",
   "version": "3.9.7"
  }
 },
 "nbformat": 4,
 "nbformat_minor": 5
}

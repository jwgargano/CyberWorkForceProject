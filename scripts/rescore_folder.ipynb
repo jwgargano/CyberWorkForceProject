{
 "cells": [
  {
   "cell_type": "code",
   "execution_count": null,
   "id": "605f9ea4",
   "metadata": {},
   "outputs": [],
   "source": [
    "# imports\n",
    "import pandas as pd\n",
    "import helpers"
   ]
  },
  {
   "cell_type": "code",
   "execution_count": null,
   "id": "5162b14d",
   "metadata": {},
   "outputs": [],
   "source": [
    "# params to change\n",
    "# if you don't want to save rescore file, make None\n",
    "folder = '../data/results/usa_jobs/similarity_match' #folder containing the bach csv files\n",
    "new_file = '../data/results/usa_jobs/similarity_match/rescore.csv' #change to file name"
   ]
  },
  {
   "cell_type": "code",
   "execution_count": null,
   "id": "5cbc1c2c",
   "metadata": {},
   "outputs": [],
   "source": [
    "# run rescore function\n",
    "rescored = helpers.rescore_group(folder=folder,new_file='../data/results/usa_jobs/similarity_match/rescore.csv')"
   ]
  },
  {
   "cell_type": "code",
   "execution_count": null,
   "id": "a132aaf0",
   "metadata": {},
   "outputs": [],
   "source": [
    "rescored.head()"
   ]
  },
  {
   "cell_type": "code",
   "execution_count": null,
   "id": "3218866a",
   "metadata": {},
   "outputs": [],
   "source": [
    "len(rescored)"
   ]
  },
  {
   "cell_type": "code",
   "execution_count": null,
   "id": "b1a7969f",
   "metadata": {},
   "outputs": [],
   "source": []
  }
 ],
 "metadata": {
  "kernelspec": {
   "display_name": "Python 3 (ipykernel)",
   "language": "python",
   "name": "python3"
  },
  "language_info": {
   "codemirror_mode": {
    "name": "ipython",
    "version": 3
   },
   "file_extension": ".py",
   "mimetype": "text/x-python",
   "name": "python",
   "nbconvert_exporter": "python",
   "pygments_lexer": "ipython3",
   "version": "3.9.7"
  }
 },
 "nbformat": 4,
 "nbformat_minor": 5
}

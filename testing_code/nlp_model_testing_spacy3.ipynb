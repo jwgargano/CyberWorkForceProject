{
 "cells": [
  {
   "cell_type": "code",
   "execution_count": 1,
   "metadata": {},
   "outputs": [],
   "source": [
    "import spacy\n",
    "import pandas as pd\n",
    "from spacy import displacy"
   ]
  },
  {
   "cell_type": "code",
   "execution_count": 2,
   "metadata": {},
   "outputs": [],
   "source": [
    "# usa jobs file\n",
    "file = './Data/Cleaned Data/USAJobs.csv'"
   ]
  },
  {
   "cell_type": "code",
   "execution_count": 3,
   "metadata": {},
   "outputs": [],
   "source": [
    "# read csv and create single desc column\n",
    "df = pd.read_csv(file)"
   ]
  },
  {
   "cell_type": "code",
   "execution_count": 4,
   "metadata": {},
   "outputs": [],
   "source": [
    "df['desc'] = df['Duties'] + df['Qualifications']"
   ]
  },
  {
   "cell_type": "code",
   "execution_count": 5,
   "metadata": {},
   "outputs": [
    {
     "data": {
      "text/plain": [
       "11892"
      ]
     },
     "execution_count": 5,
     "metadata": {},
     "output_type": "execute_result"
    }
   ],
   "source": [
    "len(df)"
   ]
  },
  {
   "cell_type": "code",
   "execution_count": 6,
   "metadata": {},
   "outputs": [
    {
     "data": {
      "text/html": [
       "<div>\n",
       "<style scoped>\n",
       "    .dataframe tbody tr th:only-of-type {\n",
       "        vertical-align: middle;\n",
       "    }\n",
       "\n",
       "    .dataframe tbody tr th {\n",
       "        vertical-align: top;\n",
       "    }\n",
       "\n",
       "    .dataframe thead th {\n",
       "        text-align: right;\n",
       "    }\n",
       "</style>\n",
       "<table border=\"1\" class=\"dataframe\">\n",
       "  <thead>\n",
       "    <tr style=\"text-align: right;\">\n",
       "      <th></th>\n",
       "      <th>Title</th>\n",
       "      <th>GS_Low</th>\n",
       "      <th>GS_High</th>\n",
       "      <th>Department</th>\n",
       "      <th>Organization</th>\n",
       "      <th>Duties</th>\n",
       "      <th>Qualifications</th>\n",
       "      <th>desc</th>\n",
       "    </tr>\n",
       "  </thead>\n",
       "  <tbody>\n",
       "    <tr>\n",
       "      <th>0</th>\n",
       "      <td>Information Technology Speciaist (INFOSEC)</td>\n",
       "      <td>13</td>\n",
       "      <td>13</td>\n",
       "      <td>Department Of Health And Human Services</td>\n",
       "      <td>Office of the Secretary of Health and Human Se...</td>\n",
       "      <td>• Serves as a technical expert and performs a ...</td>\n",
       "      <td>Specialized Experience: Qualifying experience...</td>\n",
       "      <td>• Serves as a technical expert and performs a ...</td>\n",
       "    </tr>\n",
       "    <tr>\n",
       "      <th>1</th>\n",
       "      <td>Information Technology Specialist (InfoSec)</td>\n",
       "      <td>14</td>\n",
       "      <td>14</td>\n",
       "      <td>NaN</td>\n",
       "      <td>U.S. International Trade Commission</td>\n",
       "      <td>As an Information Technology Specialist (INFOS...</td>\n",
       "      <td>You must meet all the requirements below by t...</td>\n",
       "      <td>As an Information Technology Specialist (INFOS...</td>\n",
       "    </tr>\n",
       "    <tr>\n",
       "      <th>2</th>\n",
       "      <td>IT SPECIALIST (INFOSEC)</td>\n",
       "      <td>12</td>\n",
       "      <td>12</td>\n",
       "      <td>Department of Defense</td>\n",
       "      <td>Defense Finance and Accounting Service</td>\n",
       "      <td>As the Information Assurance Manager (IAM), im...</td>\n",
       "      <td>One year of specialized experience equivalent ...</td>\n",
       "      <td>As the Information Assurance Manager (IAM), im...</td>\n",
       "    </tr>\n",
       "    <tr>\n",
       "      <th>3</th>\n",
       "      <td>IT SPECIALIST (INFOSEC)</td>\n",
       "      <td>12</td>\n",
       "      <td>12</td>\n",
       "      <td>Department of Defense</td>\n",
       "      <td>Defense Finance and Accounting Service</td>\n",
       "      <td>Develops, plans, and implements the Automated ...</td>\n",
       "      <td>Basic Requirement:Applicants must have IT-rela...</td>\n",
       "      <td>Develops, plans, and implements the Automated ...</td>\n",
       "    </tr>\n",
       "    <tr>\n",
       "      <th>4</th>\n",
       "      <td>Information Technology Specialist (InfoSec)</td>\n",
       "      <td>14</td>\n",
       "      <td>14</td>\n",
       "      <td>NaN</td>\n",
       "      <td>U.S. International Trade Commission</td>\n",
       "      <td>As an Information Technology Specialist (INFOS...</td>\n",
       "      <td>You must meet all the requirements below by t...</td>\n",
       "      <td>As an Information Technology Specialist (INFOS...</td>\n",
       "    </tr>\n",
       "  </tbody>\n",
       "</table>\n",
       "</div>"
      ],
      "text/plain": [
       "                                          Title GS_Low GS_High  \\\n",
       "0    Information Technology Speciaist (INFOSEC)     13      13   \n",
       "1  Information Technology Specialist (InfoSec)      14      14   \n",
       "2                       IT SPECIALIST (INFOSEC)     12      12   \n",
       "3                       IT SPECIALIST (INFOSEC)     12      12   \n",
       "4  Information Technology Specialist (InfoSec)      14      14   \n",
       "\n",
       "                                Department  \\\n",
       "0  Department Of Health And Human Services   \n",
       "1                                      NaN   \n",
       "2                    Department of Defense   \n",
       "3                    Department of Defense   \n",
       "4                                      NaN   \n",
       "\n",
       "                                        Organization  \\\n",
       "0  Office of the Secretary of Health and Human Se...   \n",
       "1                U.S. International Trade Commission   \n",
       "2             Defense Finance and Accounting Service   \n",
       "3             Defense Finance and Accounting Service   \n",
       "4                U.S. International Trade Commission   \n",
       "\n",
       "                                              Duties  \\\n",
       "0  • Serves as a technical expert and performs a ...   \n",
       "1  As an Information Technology Specialist (INFOS...   \n",
       "2  As the Information Assurance Manager (IAM), im...   \n",
       "3  Develops, plans, and implements the Automated ...   \n",
       "4  As an Information Technology Specialist (INFOS...   \n",
       "\n",
       "                                      Qualifications  \\\n",
       "0   Specialized Experience: Qualifying experience...   \n",
       "1   You must meet all the requirements below by t...   \n",
       "2  One year of specialized experience equivalent ...   \n",
       "3  Basic Requirement:Applicants must have IT-rela...   \n",
       "4   You must meet all the requirements below by t...   \n",
       "\n",
       "                                                desc  \n",
       "0  • Serves as a technical expert and performs a ...  \n",
       "1  As an Information Technology Specialist (INFOS...  \n",
       "2  As the Information Assurance Manager (IAM), im...  \n",
       "3  Develops, plans, and implements the Automated ...  \n",
       "4  As an Information Technology Specialist (INFOS...  "
      ]
     },
     "execution_count": 6,
     "metadata": {},
     "output_type": "execute_result"
    }
   ],
   "source": [
    "df.head()"
   ]
  },
  {
   "cell_type": "code",
   "execution_count": 7,
   "metadata": {},
   "outputs": [],
   "source": [
    "# subset to sample for easier testing\n",
    "all_desc = df['desc'][0:10].tolist()"
   ]
  },
  {
   "cell_type": "code",
   "execution_count": 8,
   "metadata": {},
   "outputs": [],
   "source": [
    "# loads spacy pre-trained model\n",
    "# nlp = spacy.load('en_core_web_lg')"
   ]
  },
  {
   "cell_type": "code",
   "execution_count": 9,
   "metadata": {},
   "outputs": [],
   "source": [
    "# scanes all_desc list \n",
    "# scanned = list(nlp.pipe(all_desc))"
   ]
  },
  {
   "cell_type": "code",
   "execution_count": 70,
   "metadata": {},
   "outputs": [],
   "source": [
    "# example baseline cybersecurity words of skills\n",
    "baseline =['cybersecurity', 'security', 'cyber', 'adversary model', 'attacks', 'intrusion', 'password','hacking', 'cracking'\n",
    "          'backdoor', 'trojan', 'virus', 'wireless attacks', 'sniffing', 'spoofing', 'denial of service', 'dos', 'bot',\n",
    "           'mac', 'wb app', '0-day exploits', 'vulnerabilities', 'social engineering', 'cert', 'ids', 'detection', 'network',\n",
    "           'information technology', 'gs-13', 'network security'\n",
    "          ]"
   ]
  },
  {
   "cell_type": "code",
   "execution_count": 11,
   "metadata": {},
   "outputs": [],
   "source": [
    "# scans the baseline \n",
    "base_scan = nlp(baseline)"
   ]
  },
  {
   "cell_type": "code",
   "execution_count": 12,
   "metadata": {
    "scrolled": true
   },
   "outputs": [],
   "source": [
    "# matched = []\n",
    "# similar = []\n",
    "# missing = []\n",
    "# for token in base_scan:\n",
    "#     if token.is_stop != True and token.is_punct != True and len(token.text) > 2 and token.has_vector:\n",
    "#         for t2 in scanned[0]:\n",
    "#             if t2.has_vector:\n",
    "#                 sim_score = token.similarity(t2)\n",
    "#                 if sim_score > 0.9:\n",
    "#                     matched.append(token)\n",
    "#                     print(token.text, \"<->\", t2.text, token.similarity(t2))\n",
    "#                 elif sim_score < 0.9 and sim_score >=0.7:\n",
    "#                     similar.append(token)\n",
    "#                 else:\n",
    "#                     missing.append(token)"
   ]
  },
  {
   "cell_type": "code",
   "execution_count": 13,
   "metadata": {},
   "outputs": [],
   "source": [
    "# matched = list(set(matched))\n",
    "# similar = list(set(similar))\n",
    "# missing = list(set(missing))"
   ]
  },
  {
   "cell_type": "code",
   "execution_count": 14,
   "metadata": {},
   "outputs": [],
   "source": [
    "# total = len(matched) + len(similar) + len(missing)\n",
    "# total"
   ]
  },
  {
   "cell_type": "code",
   "execution_count": 15,
   "metadata": {},
   "outputs": [],
   "source": [
    "# matched_perc = len(matched) / total\n",
    "# similar_perc = len(similar) / total\n",
    "# missing_perc = len(missing) / total\n",
    "# matched_perc, similar_perc, missing_perc"
   ]
  },
  {
   "cell_type": "code",
   "execution_count": null,
   "metadata": {},
   "outputs": [],
   "source": []
  },
  {
   "cell_type": "code",
   "execution_count": null,
   "metadata": {},
   "outputs": [],
   "source": []
  },
  {
   "cell_type": "code",
   "execution_count": 79,
   "metadata": {},
   "outputs": [],
   "source": [
    "import spacy\n",
    "from spacy.matcher import PhraseMatcher, Matcher\n",
    "from spacy.tokens import Span\n",
    "from spacy.pipeline import merge_entities\n",
    "from spacy.language import Language"
   ]
  },
  {
   "cell_type": "code",
   "execution_count": 17,
   "metadata": {},
   "outputs": [],
   "source": [
    "# attempts to create pipeline matcher like in Spacy2 but they changed a lot and its not working right\n",
    "@Language.component('skills_pipe')\n",
    "class TargetSkillsPipeline():\n",
    "    name = \"skills_pipe\"\n",
    "    def __init__(self, nlp):\n",
    "        self.skills = ['cybersecurity', 'security', 'cyber', 'adversary model', 'attacks', 'intrusion', 'password','hacking', 'cracking'\n",
    "          'backdoor', 'trojan', 'virus', 'wireless attacks', 'sniffing', 'spoofing', 'denial of service', 'dos', 'bot',\n",
    "           'mac', 'wb app', '0-day exploits', 'vulnerabilities', 'social engineering', 'cert', 'ids', 'detection', 'network'\n",
    "          ]\n",
    "        \n",
    "        self.label_hash = nlp.vocab.strings['SKILL']\n",
    "        self.matcher = PhraseMatcher(nlp.vocab, attr=\"LOWER\")\n",
    "        patterns = [nlp(word) for word in self.skills]\n",
    "        self.matcher.add('TerminologyList', self.add_event_ent, *patterns)\n",
    "        \n",
    "    @staticmethod\n",
    "    def add_event_ent(_, doc, i, matches):\n",
    "        _, start, end = matches[i]\n",
    "        entity = Span(doc, start, end, label='SKILL')\n",
    "        doc.ents = tuple([e for e in doc.ents if not (e.start < end and e.end > start)]) + (entity,)\n",
    "        \n",
    "    def __call__(self, doc):\n",
    "        matches = self.matcher(doc)\n",
    "        for _, start, end in matches:\n",
    "            span = doc[start:end]\n",
    "        return doc\n"
   ]
  },
  {
   "cell_type": "code",
   "execution_count": 71,
   "metadata": {},
   "outputs": [
    {
     "data": {
      "text/plain": [
       "[[{'TEXT': 'cybersecurity'}],\n",
       " [{'TEXT': 'security'}],\n",
       " [{'TEXT': 'cyber'}],\n",
       " [{'TEXT': 'adversary model'}],\n",
       " [{'TEXT': 'attacks'}],\n",
       " [{'TEXT': 'intrusion'}],\n",
       " [{'TEXT': 'password'}],\n",
       " [{'TEXT': 'hacking'}],\n",
       " [{'TEXT': 'crackingbackdoor'}],\n",
       " [{'TEXT': 'trojan'}],\n",
       " [{'TEXT': 'virus'}],\n",
       " [{'TEXT': 'wireless attacks'}],\n",
       " [{'TEXT': 'sniffing'}],\n",
       " [{'TEXT': 'spoofing'}],\n",
       " [{'TEXT': 'denial of service'}],\n",
       " [{'TEXT': 'dos'}],\n",
       " [{'TEXT': 'bot'}],\n",
       " [{'TEXT': 'mac'}],\n",
       " [{'TEXT': 'wb app'}],\n",
       " [{'TEXT': '0-day exploits'}],\n",
       " [{'TEXT': 'vulnerabilities'}],\n",
       " [{'TEXT': 'social engineering'}],\n",
       " [{'TEXT': 'cert'}],\n",
       " [{'TEXT': 'ids'}],\n",
       " [{'TEXT': 'detection'}],\n",
       " [{'TEXT': 'network'}],\n",
       " [{'TEXT': 'information technology'}],\n",
       " [{'TEXT': 'gs-13'}],\n",
       " [{'TEXT': 'network security'}]]"
      ]
     },
     "execution_count": 71,
     "metadata": {},
     "output_type": "execute_result"
    }
   ],
   "source": [
    "# instead create patters like so and feed into phrase matcher matcher spacy func\n",
    "patterns = [[{\"TEXT\": word}] for word in baseline]\n",
    "patterns"
   ]
  },
  {
   "cell_type": "code",
   "execution_count": 74,
   "metadata": {},
   "outputs": [],
   "source": [
    "# callback to do on match\n",
    "def on_match(_, doc, i, matches):\n",
    "    _, start, end = matches[i]\n",
    "    entity = Span(doc, start, end, label='SKILL')\n",
    "    print(entity)\n",
    "    doc.ents = tuple([e for e in doc.ents if not (e.start < end and e.end > start)]) + (entity,)\n"
   ]
  },
  {
   "cell_type": "code",
   "execution_count": 75,
   "metadata": {},
   "outputs": [],
   "source": [
    "# load pre-trained model and add the matcher patterns to the matcher\n",
    "nlp = spacy.load('en_core_web_lg')\n",
    "# nlp.add_pipe('skills_pipe', after=\"ner\")\n",
    "# nlp.add_pipe('merge_entities')\n",
    "matcher = Matcher(nlp.vocab)\n",
    "# patterns = [[{\"TEXT\": word} for word in baseline]]\n",
    "matcher.add(\"SKILLS\", patterns, on_match=on_match)"
   ]
  },
  {
   "cell_type": "code",
   "execution_count": 76,
   "metadata": {},
   "outputs": [],
   "source": [
    "# scan all_dsc through model\n",
    "scanned = list(nlp.pipe(all_desc))"
   ]
  },
  {
   "cell_type": "code",
   "execution_count": 77,
   "metadata": {},
   "outputs": [
    {
     "name": "stdout",
     "output_type": "stream",
     "text": [
      "security\n",
      "security\n",
      "vulnerabilities\n",
      "security\n",
      "security\n",
      "security\n",
      "network\n",
      "vulnerabilities\n",
      "network\n",
      "security\n",
      "security\n",
      "16498319728200408761 SKILLS 15 16 security True \n",
      "16498319728200408761 SKILLS 30 31 security True \n",
      "16498319728200408761 SKILLS 33 34 vulnerabilities True \n",
      "16498319728200408761 SKILLS 57 58 security True \n",
      "16498319728200408761 SKILLS 141 142 security True \n",
      "16498319728200408761 SKILLS 166 167 security True \n",
      "16498319728200408761 SKILLS 598 599 network True \n",
      "16498319728200408761 SKILLS 603 604 vulnerabilities True \n",
      "16498319728200408761 SKILLS 612 613 network True \n",
      "16498319728200408761 SKILLS 629 630 security True \n",
      "16498319728200408761 SKILLS 641 642 security True \n"
     ]
    }
   ],
   "source": [
    "# get the matches that matched the word in the doc\n",
    "doc = scanned[1]\n",
    "\n",
    "matches = matcher(doc)\n",
    "for match_id, start, end in matches:\n",
    "    string_id = nlp.vocab.strings[match_id]  # Get string representation\n",
    "    span = doc[start:end]  # The matched span\n",
    "    print(match_id, string_id, start, end, span.text, span.has_vector, span.label_)"
   ]
  },
  {
   "cell_type": "code",
   "execution_count": 78,
   "metadata": {},
   "outputs": [
    {
     "data": {
      "text/plain": [
       "As an Information Technology Specialist (INFOSEC), you will: serves as a security operations center (SOC) analyst, and technical advisor on matters relating to security operations, vulnerabilities and threats to ITC computer and communication systems; participate in the planning, developing, implementing, and coordination of the information security program at USITC; analyze Executive Orders, legislation, and policy and guidance from OMB, NIST, as well as other Federal IT agencies for impact and/or implication on USITC networks; assess procedures and applications of information systems hardware, system software, overall system design, data communication, and capabilities of the systems; serve as an USITC technical consultant and assists in formulating agency directives, policy and guidance; develop papers and gives formal presentations on security problems, advancements and proposed solutions as a technical consultant in the IT field; implement vendor-supplied authentication, auditing and other security relevant features. You must meet all the requirements below by the closing date of the announcement and they must be clearly identified in your application, resume, or supporting documents. This includes any general and specialized experience, education, and/or selective placement factors mentioned. These are used to determine if you possess the knowledge, skills, and/or abilities to successfully perform in this position. BASIC REQUIREMENT To be considered for an IT Specialist position, you must possess IT-related experience that demonstrates each of the four competencies below: 1. Attention to Detail - Is thorough when performing work and conscientious about attending to detail. 2. Customer Service - Works with clients and customers (that is, any individuals who use or receive the services or products that your work unit produces, including the general public, individuals who work in the agency, other agencies, or organizations outside the Government) to assess their needs, provide information or assistance, resolve their problems, or satisfy their expectations; knows about available products and services; is committed to providing quality products and services. 3. Oral Communication - Expresses information (for example, ideas or facts) to individuals or groups effectively, taking into account the audience and nature of the information (for example, technical, sensitive, controversial); makes clear and convincing oral presentations; listens to others, attends to nonverbal cues, and responds appropriately. 4. Problem Solving - Identifies problems; determines accuracy and relevance of information; uses sound judgment to generate and evaluate alternatives, and to make recommendations. Experience refers to paid and unpaid experience, including volunteer work done through national service programs (e.g., Peace Corps, AmeriCorps) and other organizations (e.g., professional; philanthropic; religious; spiritual; community, student, social). Volunteer work helps build critical competencies, knowledge, and skills and can provide valuable training and experience that translates directly to paid employment. You will receive credit for all qualifying experience, including volunteer experience. To qualify at the GS-14 level, you must have must have at least one-year of specialized experience equivalent to the GS-13 level in the Federal service, obtained in private or public service, which demonstrates: (1)mastery of all aspects of incident handling; (2) mastery of monitoring network events for threats and vulnerabilities; (3) mastery of computer and network forensics; (4) mastery of penetration testing techniques; (5) mastery of security architecture and engineering; and (6) mastery in conducting security briefings to all levels in the organization. "
      ]
     },
     "execution_count": 78,
     "metadata": {},
     "output_type": "execute_result"
    }
   ],
   "source": [
    "scanned[1]"
   ]
  },
  {
   "cell_type": "code",
   "execution_count": null,
   "metadata": {},
   "outputs": [],
   "source": []
  }
 ],
 "metadata": {
  "kernelspec": {
   "display_name": "Python 3 (ipykernel)",
   "language": "python",
   "name": "python3"
  },
  "language_info": {
   "codemirror_mode": {
    "name": "ipython",
    "version": 3
   },
   "file_extension": ".py",
   "mimetype": "text/x-python",
   "name": "python",
   "nbconvert_exporter": "python",
   "pygments_lexer": "ipython3",
   "version": "3.9.7"
  }
 },
 "nbformat": 4,
 "nbformat_minor": 2
}
